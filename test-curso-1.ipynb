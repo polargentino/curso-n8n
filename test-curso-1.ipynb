{
 "cells": [
  {
   "cell_type": "markdown",
   "id": "758c77bf",
   "metadata": {},
   "source": [
    "Dado que me has proporcionado una imagen de una pregunta de opción múltiple de un curso de n8n y me has dicho que estás haciendo el curso 1, y siguiendo tu instrucción de traducción, aquí está la respuesta a la pregunta en **español**.\n",
    "\n",
    "La pregunta es: **\"What can you do if there is no n8n node for an app/service that you want to use in a workflow?\"** (¿Qué puedes hacer si no hay un nodo de n8n para una aplicación/servicio que quieres usar en un flujo de trabajo?).\n",
    "\n",
    "Las opciones correctas son: **A, B, y C**.\n",
    "\n",
    "---\n",
    "\n",
    "## 💡 Soluciones para Nodos Faltantes en n8n\n",
    "\n",
    "Las tres opciones representan acciones válidas y comunes que se pueden tomar cuando no existe un nodo preconstruido para un servicio en n8n:\n",
    "\n",
    "* **A. Ask the n8n team to create the node (Pedirle al equipo de n8n que cree el nodo):** El equipo de n8n mantiene una lista de solicitudes de nodos. Puedes abrir una solicitud de función (feature request) o \"Idea\" en sus foros o plataformas de desarrollo. Si hay suficiente demanda, el equipo o la comunidad podrían desarrollarlo.\n",
    "\n",
    "* **B. Create the node yourself (Crear el nodo tú mismo):** n8n es una plataforma **extensible**. Si tienes conocimientos de programación (JavaScript/TypeScript), puedes **crear un nodo personalizado** e incluso compartirlo con la comunidad.\n",
    "\n",
    "* **C. Use the HTTP Request node instead (Usar el nodo HTTP Request en su lugar):** Esta es la solución más común y rápida. La mayoría de las aplicaciones y servicios modernos ofrecen una **API (Application Programming Interface)**. El nodo **HTTP Request** de n8n te permite interactuar directamente con la API de cualquier servicio, enviando peticiones GET, POST, PUT, etc., para realizar las acciones deseadas. Es el \"comodín\" de n8n.\n",
    "\n",
    "Por lo tanto, debes seleccionar **las tres opciones** en la prueba.\n",
    "\n",
    "---\n",
    "¿Te gustaría que te ayude con la siguiente pregunta de la prueba o tienes alguna duda sobre alguno de estos métodos?"
   ]
  },
  {
   "cell_type": "markdown",
   "id": "9dd1d68c",
   "metadata": {},
   "source": [
    "La pregunta es: **\"Which of the following are Core Nodes?\"** (¿Cuáles de los siguientes son Nodos Centrales [o Nodos Fundamentales]?).\n",
    "\n",
    "Los **Core Nodes** (Nodos Centrales) en n8n son aquellos esenciales que se usan para la lógica, control de flujo, o tareas fundamentales dentro de la automatización, y no están ligados a una aplicación de terceros específica.\n",
    "\n",
    "---\n",
    "\n",
    "## ✅ Nodos Centrales de n8n\n",
    "\n",
    "Las opciones correctas son: **A, C, y D**.\n",
    "\n",
    "* **A. Schedule node (Nodo de Programación):** **Es un Core Node.** Se utiliza para **iniciar** un flujo de trabajo en un momento específico o a intervalos regulares (control de tiempo).\n",
    "* **B. Telegram node (Nodo de Telegram):** **NO es un Core Node.** Es un **Integration Node** (Nodo de Integración) porque se conecta a un servicio de terceros (Telegram).\n",
    "* **C. IF node (Nodo Condicional):** **Es un Core Node.** Se utiliza para controlar el **flujo lógico** del *workflow*, permitiendo bifurcaciones basadas en condiciones (similar a una declaración `if/else`).\n",
    "* **D. Webhook node (Nodo Webhook):** **Es un Core Node.** Es un nodo disparador (Trigger) fundamental que permite que un flujo de trabajo se **inicie** cuando recibe una solicitud HTTP externa (esencial para la integración con casi cualquier servicio).\n",
    "\n",
    "---\n",
    "\n",
    "Por lo tanto, debes seleccionar **A, C, y D**.\n",
    "\n",
    "¿Te gustaría continuar con la siguiente pregunta de la prueba de n8n?"
   ]
  },
  {
   "cell_type": "markdown",
   "id": "b0d7a98a",
   "metadata": {},
   "source": [
    "La pregunta es: **\"Which of the following are Trigger Nodes?\"** (¿Cuáles de los siguientes son Nodos Disparadores [o Nodos de Inicio]?).\n",
    "\n",
    "Los **Trigger Nodes** (Nodos Disparadores) son los nodos especiales que se utilizan **únicamente** para comenzar un flujo de trabajo (workflow).\n",
    "\n",
    "---\n",
    "\n",
    "## ✅ Nodos Disparadores en n8n\n",
    "\n",
    "Las opciones correctas son: **A** y **C**.\n",
    "\n",
    "* **A. Schedule node (Nodo de Programación):** **Es un Trigger Node.** Inicia el *workflow* según un horario predefinido (cada hora, día, etc.).\n",
    "* **B. Code node (Nodo de Código):** **NO es un Trigger Node.** Es un nodo de **ejecución** que permite escribir código JavaScript para manipular datos *dentro* del *workflow*.\n",
    "* **C. Airtable node (Nodo de Airtable):** **Puede ser un Trigger Node.** Muchos nodos de integración de aplicaciones (como Airtable, Google Sheets, Slack, etc.) tienen una versión **Trigger** que inicia el *workflow* cuando ocurre un evento específico en esa aplicación (por ejemplo, se añade una nueva fila en Airtable).\n",
    "* **D. Edit Fields node (Nodo de Edición de Campos):** **NO es un Trigger Node.** Es un nodo de **transformación de datos** que se utiliza para manipular los campos de los datos que pasan a través del *workflow*.\n",
    "\n",
    "---\n",
    "\n",
    "Por lo tanto, debes seleccionar **A** y **C**.\n",
    "\n",
    "¿Continuamos con la siguiente pregunta de la prueba?"
   ]
  },
  {
   "cell_type": "markdown",
   "id": "d8a6321c",
   "metadata": {},
   "source": [
    "La pregunta es: **\"Where do you get credentials for app/service nodes?\"** (¿De dónde obtienes las credenciales para los nodos de aplicación/servicio?). La instrucción indica que **solo hay una respuesta correcta** a pesar de la opción \"Choose as many as you like\" (que parece ser un error en el diseño del cuestionario).\n",
    "\n",
    "---\n",
    "\n",
    "## 🔑 Origen de las Credenciales en n8n\n",
    "\n",
    "La respuesta correcta es **B**.\n",
    "\n",
    "* **B. From the respective app/service you want to use (De la respectiva aplicación/servicio que deseas usar):** **Esta es la única respuesta correcta.** Las credenciales (como claves API, tokens de acceso o pares de usuario/contraseña) que n8n necesita para conectarse a un servicio de terceros (como Google Sheets, Slack, o Trello) **siempre** deben obtenerse de la **configuración de desarrollador o cuenta** del servicio en cuestión.\n",
    "\n",
    "---\n",
    "\n",
    "### Explicación de las Opciones:\n",
    "\n",
    "* **A. From the n8n documentation (De la documentación de n8n):** La documentación de n8n te dice **cómo** usar las credenciales (dónde pegarlas en la interfaz de n8n), pero **no te proporciona** las credenciales en sí.\n",
    "* **C. From the dark web (De la dark web):** Absolutamente incorrecto y una opción de distracción. Obtener credenciales de manera ilícita no es el procedimiento correcto.\n",
    "\n",
    "Por lo tanto, debes seleccionar **B**.\n",
    "\n",
    "¿Necesitas ayuda con la siguiente pregunta de la prueba?"
   ]
  },
  {
   "cell_type": "markdown",
   "id": "0156affd",
   "metadata": {},
   "source": [
    "La pregunta es: **\"You can download your workflows as .exe files.\"** (Puedes descargar tus flujos de trabajo como archivos .exe).\n",
    "\n",
    "La respuesta correcta es **B. False** (Falso).\n",
    "\n",
    "---\n",
    "\n",
    "## 💾 Formato de Exportación de Workflows en n8n\n",
    "\n",
    "Los flujos de trabajo de n8n **no se descargan como archivos `.exe`**.\n",
    "\n",
    "* Un archivo **`.exe`** (ejecutable) es un formato utilizado principalmente por el sistema operativo Windows para programas que se ejecutan directamente en la computadora.\n",
    "* Los flujos de trabajo de n8n se descargan y se exportan como archivos **`.json`** (JavaScript Object Notation). Este formato es un estándar para el intercambio de datos y contiene toda la lógica, la configuración y los nodos del *workflow* en un formato de texto legible.\n",
    "\n",
    "Por lo tanto, debes seleccionar **B (False)**.\n",
    "\n",
    "---\n",
    "¿Te gustaría revisar la siguiente pregunta del curso?"
   ]
  },
  {
   "cell_type": "markdown",
   "id": "55afe9f4",
   "metadata": {},
   "source": [
    "La pregunta es: **\"You can import a workflow from a URL or from a local JSON file.\"** (Puedes importar un flujo de trabajo desde una URL o desde un archivo JSON local).\n",
    "\n",
    "La respuesta correcta es **A. True** (Verdadero).\n",
    "\n",
    "---\n",
    "\n",
    "## 📥 Métodos de Importación de Workflows en n8n\n",
    "\n",
    "n8n proporciona múltiples formas de importar flujos de trabajo compartidos o previamente exportados, y ambas opciones mencionadas son válidas:\n",
    "\n",
    "1.  **Desde un archivo JSON local:** Puedes **exportar** un *workflow* como un archivo `.json` a tu computadora y luego usar la opción de **Importar** para subir ese archivo a otra instancia de n8n.\n",
    "2.  **Desde una URL:** También puedes copiar la URL de un flujo de trabajo de n8n compartido (por ejemplo, desde el **Community Hub** o cualquier lugar donde esté alojado el archivo `.json` del *workflow*) y pegarla en la función de importación de n8n.\n",
    "\n",
    "Por lo tanto, debes seleccionar **A (True)**.\n",
    "\n",
    "---\n",
    "¿Hay más preguntas de la prueba en las que pueda ayudarte?"
   ]
  },
  {
   "cell_type": "markdown",
   "id": "d77eb6ed",
   "metadata": {},
   "source": []
  }
 ],
 "metadata": {
  "language_info": {
   "name": "python"
  }
 },
 "nbformat": 4,
 "nbformat_minor": 5
}
