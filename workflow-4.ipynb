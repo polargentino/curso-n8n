{
 "cells": [
  {
   "cell_type": "markdown",
   "id": "88cd912a",
   "metadata": {},
   "source": [
    "**Claro que sí.** Con gusto convierto este texto a formato **Markdown (.md)** para que se vea más profesional y estructurado.\n",
    "\n",
    "Aquí tienes el texto en formato Markdown:\n",
    "\n",
    "---\n",
    "# Aprendizaje Práctico: Agente de IA en n8n\n",
    "**¡Perfecto! Excelente idea aprender haciendo. 🎯**\n",
    "\n",
    "A continuación, encontrarás una explicación clara de la funcionalidad del agente (para que entiendas el flujo) y un plan paso a paso con acciones concretas para empezar a configurar y probar con las plantillas. Todo está diseñado para que puedas avanzar sin dudas.\n",
    "\n",
    "---\n",
    "\n",
    "## ¿Qué hace este \"Agente de IA\" en n8n? (Visión General)\n",
    "\n",
    "Un **Agente** en esta plantilla es, básicamente, un pequeño sistema conversacional orquestado por **n8n** que combina varios componentes clave:\n",
    "\n",
    "1.  **Interfaz de Chat (Entrada del Usuario)**\n",
    "    * **Bloque:** \"Chat abierto / Ejemplo de chat\"\n",
    "    * **Función:** Recibe la pregunta o petición inicial del usuario.\n",
    "\n",
    "2.  **Nodo de Modelo (El LLM)**\n",
    "    * **Bloque:** \"Tu primer agente de IA / Géminis u otro LLM\"\n",
    "    * **Función:** Es donde se envía la consulta al modelo de lenguaje (ej.: **Gemini**, OpenAI). Aquí se configuran parámetros cruciales como el *system prompt*, la temperatura, etc.\n",
    "\n",
    "3.  **Nodos de Herramientas / Integraciones**\n",
    "    * **Función:** Permiten al agente realizar acciones reales fuera de la conversación, tales como:\n",
    "        * Leer el calendario.\n",
    "        * Obtener noticias (RSS).\n",
    "        * Enviar emails (Gmail).\n",
    "        * Ejecutar *HTTP requests*, etc.\n",
    "\n",
    "4.  **Nodo de Memoria**\n",
    "    * **Función:** Guarda contexto o datos de la conversación para que el agente pueda \"recordar\" información entre distintos mensajes.\n",
    "\n",
    "5.  **Lógica / Rutas**\n",
    "    * **Función:** Determina si la petición del usuario es puramente conversacional o si requiere la ejecución de una acción específica (ej.: \"envía un mail\", \"crea un evento en el calendario\").\n",
    "\n",
    "6.  **Salida / Respuesta**\n",
    "    * **Función:** Es el texto final (o la confirmación de la acción completada) que se muestra de vuelta al usuario en la interfaz de chat.\n",
    "\n",
    "**En resumen:** Recibe texto → decide (basado en el *prompt* y la memoria) → usa herramientas si hace falta → responde / actúa.\n",
    "---\n",
    "\n",
    "**Sigo atento para convertir los demás textos que me pases.**"
   ]
  },
  {
   "cell_type": "markdown",
   "id": "37d11f58",
   "metadata": {},
   "source": []
  }
 ],
 "metadata": {
  "language_info": {
   "name": "python"
  }
 },
 "nbformat": 4,
 "nbformat_minor": 5
}
