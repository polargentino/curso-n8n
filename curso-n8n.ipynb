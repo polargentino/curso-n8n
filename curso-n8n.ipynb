{
 "cells": [
  {
   "cell_type": "markdown",
   "id": "d15bb308",
   "metadata": {},
   "source": [
    "\n",
    "# Cursos de texto\n",
    "\n",
    "Si has llegado hasta aquí, significa que te interesa seriamente la automatización. Quizás estés cansado de introducir datos manualmente en la misma hoja de cálculo todos los días, de navegar por una serie de pestañas y botones para encontrar la información que necesitas, o de gestionar decenas de herramientas y sistemas diferentes.\n",
    "\n",
    "Sea cual sea el motivo, una cosa está clara: no debes malgastar tiempo precioso en cosas que no te generen alegría ni contribuyan a tu crecimiento personal y profesional.\n",
    "\n",
    "¡Estas tareas pueden y deben automatizarse! Y no se necesitan conocimientos técnicos avanzados ni excelentes habilidades de programación para lograrlo: con herramientas sin código como **n8n**, la automatización es para todos.\n",
    "\n",
    "---\n",
    "### Cursos disponibles\n",
    "\n",
    "- **Nivel 1:** Curso para principiantes\n",
    "- **Nivel 2:** Curso intermedio"
   ]
  }
 ],
 "metadata": {
  "language_info": {
   "name": "python"
  }
 },
 "nbformat": 4,
 "nbformat_minor": 5
}
